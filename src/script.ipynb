{
 "cells": [
  {
   "cell_type": "markdown",
   "metadata": {},
   "source": [
    "# Import libraries"
   ]
  },
  {
   "cell_type": "code",
   "execution_count": 30,
   "metadata": {},
   "outputs": [],
   "source": [
    "import pandas as pd\n",
    "import sqlalchemy\n",
    "import math"
   ]
  },
  {
   "cell_type": "markdown",
   "metadata": {},
   "source": [
    "# Function to split data frame"
   ]
  },
  {
   "cell_type": "code",
   "execution_count": 8,
   "metadata": {},
   "outputs": [],
   "source": [
    "def split_csv(file_path,json:int=30,database:int=50,csv:int=20):\n",
    "    df=pd.read_csv(file_path)\n",
    "    #randomazie data\n",
    "    df=df.sample(frac=1)\n",
    "\n",
    "    #get the lengh of data to calculate the number of lines for each dataframe\n",
    "    df_len=len(df.index)\n",
    "\n",
    "    #check if the percentage of spliting under 100\n",
    "    if((json+database+csv)!=100):\n",
    "        raise Exception('The perecentage of spliting must be equal 100') \n",
    "\n",
    "    #Calculate the points of json, EX: [0,400] the json will containt all rows from index 0 to 400\n",
    "    start_index=0\n",
    "    end_index=int((df_len*json)/100)\n",
    "    json_points=[start_index,end_index]\n",
    "\n",
    "    #The csv file will start in the end of json file \n",
    "    start_index=end_index\n",
    "    end_index=int((df_len*(json+csv))/100)\n",
    "    csv_points=[start_index,end_index]\n",
    "\n",
    "    #Databasefile\n",
    "    start_index=end_index\n",
    "    end_index=df_len\n",
    "    database_points=[start_index,end_index]\n",
    "\n",
    "    #return 3 dataframe Json, CSV, Database\n",
    "    return df.iloc[json_points[0]:json_points[1]],df.iloc[database_points[0]:database_points[1]],df.iloc[csv_points[0]:csv_points[1]]"
   ]
  },
  {
   "cell_type": "markdown",
   "metadata": {},
   "source": [
    "# Test function"
   ]
  },
  {
   "cell_type": "code",
   "execution_count": 36,
   "metadata": {},
   "outputs": [
    {
     "name": "stdout",
     "output_type": "stream",
     "text": [
      "Done\n"
     ]
    }
   ],
   "source": [
    "try:\n",
    "    json_per = math.floor(float(input('Taux de json: ')))\n",
    "    database_per = math.floor(float(input('Taux de database: ')))\n",
    "    csv_per = math.floor(float(input('Taux de csv: ')))\n",
    "\n",
    "    #split data to 3 data frame\n",
    "    df_json,df_database,df_csv=split_csv('dataset/real_estate_dataset.csv',json=json_per,database=database_per,csv=csv_per)\n",
    "    df_json.to_json('exported_dataset/real_estate.json')\n",
    "    df_csv.to_csv('exported_dataset/real_estate.csv')\n",
    "\n",
    "    #insert to database\n",
    "    server = 'ELMEHDI'\n",
    "    database = 'realestate'\n",
    "    driver = 'ODBC Driver 17 for SQL Server'\n",
    "    connection_string = f'mssql+pyodbc://{server}/{database}?driver={driver}'\n",
    "    # create a SQLAlchemy engine using the connection string\n",
    "    engine = sqlalchemy.create_engine(connection_string)\n",
    "    # write the DataFrame to a table in the database\n",
    "    table_name = 'house'\n",
    "    df_database.to_sql(table_name, engine, if_exists='replace', index=False)\n",
    "\n",
    "    print('Done')\n",
    "except Exception as e:\n",
    "    print(e.args)\n"
   ]
  }
 ],
 "metadata": {
  "kernelspec": {
   "display_name": "Python 3",
   "language": "python",
   "name": "python3"
  },
  "language_info": {
   "codemirror_mode": {
    "name": "ipython",
    "version": 3
   },
   "file_extension": ".py",
   "mimetype": "text/x-python",
   "name": "python",
   "nbconvert_exporter": "python",
   "pygments_lexer": "ipython3",
   "version": "3.11.4"
  },
  "orig_nbformat": 4
 },
 "nbformat": 4,
 "nbformat_minor": 2
}
